{
 "cells": [
  {
   "cell_type": "code",
   "execution_count": 1,
   "metadata": {},
   "outputs": [
    {
     "data": {
      "text/plain": [
       "{\n",
       "    \"server_version\": \"c247ca4a\",\n",
       "    \"chain_id\": \"aca376f206b8fc25a6ed44dbdc66547c36c6c33e3a119ffbeaef943642f0e906\",\n",
       "    \"head_block_num\": 81078167,\n",
       "    \"last_irreversible_block_num\": 81077840,\n",
       "    \"last_irreversible_block_id\": \"04d52650a605f24574b449dc2c7f966f73c1986ebec566c9a257db935f7978de\",\n",
       "    \"head_block_id\": \"04d527978bd5a6da3ae9d3b1d7939c183ce107b38be155766f8729dbb19986af\",\n",
       "    \"head_block_time\": \"2019-09-24T16:43:37.000\",\n",
       "    \"head_block_producer\": \"big.one\",\n",
       "    \"virtual_block_cpu_limit\": 200000000,\n",
       "    \"virtual_block_net_limit\": 1048576000,\n",
       "    \"block_cpu_limit\": 200000,\n",
       "    \"block_net_limit\": 1048576,\n",
       "    \"server_version_string\": \"v1.8.2-737-gc247ca4aae-dirty\",\n",
       "    \"fork_db_head_block_num\": 81078167,\n",
       "    \"fork_db_head_block_id\": \"04d527978bd5a6da3ae9d3b1d7939c183ce107b38be155766f8729dbb19986af\"\n",
       "}"
      ]
     },
     "execution_count": 1,
     "metadata": {},
     "output_type": "execute_result"
    }
   ],
   "source": [
    "eosapi.get_info()"
   ]
  },
  {
   "cell_type": "code",
   "execution_count": 30,
   "metadata": {},
   "outputs": [
    {
     "name": "stdout",
     "output_type": "stream",
     "text": [
      "80315001\n",
      "80315001 {'expiration': '2019-09-20T06:01:30', 'ref_block_num': 33398, 'ref_block_prefix': 3345516913, 'max_net_usage_words': 0, 'max_cpu_usage_ms': 0, 'delay_sec': 0, 'context_free_actions': [], 'actions': [{'account': 'blackjack.e', 'name': 'playeraction', 'authorization': [{'actor': 'libertyhome1', 'permission': 'active'}], 'data': '1094a4cde7ab8e8bb85e1800000000000400000000000000'}], 'transaction_extensions': [], 'signatures': ['SIG_K1_KgmxzELuR1YD83QTVRU4DxWfUZQZa1UGoF68ov8qBQg5K5Rphmmt634knTmCB2Ztw4f8YS9qCpRFZ5wLQ5fW3n4kxnaqk7'], 'context_free_data': []}\n",
      "80315001 {'expiration': '2019-09-20T06:01:58', 'ref_block_num': 33394, 'ref_block_prefix': 191425309, 'max_net_usage_words': 0, 'max_cpu_usage_ms': 0, 'delay_sec': 0, 'context_free_actions': [], 'actions': [{'account': 'betdicegroup', 'name': 'payout', 'authorization': [{'actor': 'betdicegroup', 'permission': 'active'}], 'data': '4b11000000000000'}], 'transaction_extensions': [], 'signatures': ['SIG_K1_K9Ubwg76h8NNRRZCuTUDu7YS1XbeYM9mp4hjqHG3P63boWXQjfxBfUTozCr5HfQcrk5mksYnbbLVajvksMYDM74gHmhgjJ'], 'context_free_data': []}\n",
      "80315001 {'expiration': '2019-09-20T06:01:28', 'ref_block_num': 33394, 'ref_block_prefix': 191425309, 'max_net_usage_words': 0, 'max_cpu_usage_ms': 0, 'delay_sec': 0, 'context_free_actions': [], 'actions': [{'account': 'eosio.token', 'name': 'transfer', 'authorization': [{'actor': 'gjnhrje4bw4l', 'permission': 'active'}], 'data': '10093f44bddbe663009179d830b53155f40100000000000004454f530000000008747970655b38385d'}], 'transaction_extensions': [], 'signatures': ['SIG_K1_KmCaBSVG8FW9F9fzGWZZXHhVSWCGLHbTWdygDuwpKBWCbLJWQAaQq5SPG6wbTZVkwtPSsXcZyQHPUaghC1UDJuDxyCutGj'], 'context_free_data': []}\n",
      "80315001 {'expiration': '2019-09-20T06:01:58', 'ref_block_num': 33394, 'ref_block_prefix': 191425309, 'max_net_usage_words': 0, 'max_cpu_usage_ms': 0, 'delay_sec': 0, 'context_free_actions': [], 'actions': [{'account': 'betdicegroup', 'name': 'payout', 'authorization': [{'actor': 'betdicegroup', 'permission': 'active'}], 'data': '9d23000000000000'}], 'transaction_extensions': [], 'signatures': ['SIG_K1_KAxXspzDQ6RQt7PGht5mry6FXMRoYVq1QvvX6Xv93TC6Xx9VYohe7HJo8agnV2ivzUE58T35hk7bCNULu3mDjx5tGZYyQ2'], 'context_free_data': []}\n",
      "80315001 {'expiration': '2019-09-20T06:06:01', 'ref_block_num': 33399, 'ref_block_prefix': 36574834, 'max_net_usage_words': 0, 'max_cpu_usage_ms': 0, 'delay_sec': 0, 'context_free_actions': [], 'actions': [{'account': 'ghtclubtoken', 'name': 'transfer', 'authorization': [{'actor': 'ghtclubbank1', 'permission': 'active'}], 'data': '10e034e7e8887263309d4ce6e888726330750000000000000447485400000000347472616e736665723a20307837633961653035366531383735396231336464616635646637383035383561333131333334303061'}], 'transaction_extensions': [], 'signatures': ['SIG_K1_Kd4aXGWxd8we9yCmnafC1cfYRKmNQ1e4co6nriivAsc6jXEBxK5Gda5tVeXDnEe8KGHqHnYLXYq782WovuarhzxG6SDtFe'], 'context_free_data': []}\n",
      "80315001 {'expiration': '2019-09-20T06:01:28', 'ref_block_num': 33062, 'ref_block_prefix': 1711041669, 'max_net_usage_words': 0, 'max_cpu_usage_ms': 0, 'delay_sec': 0, 'context_free_actions': [], 'actions': [{'account': 'pornhashbaby', 'name': 'record', 'authorization': [{'actor': 'bnr421441235', 'permission': 'active'}], 'data': '508608840441ee3c62317c68624d3243414d63645a39784c6d726a4c6d4c6c4f46446c674b6f7a43564c364c464d50645a776f4c6c7a6a4c70396c6470596d67464c364c464d45667155734232616f4f636a7a506d6a6352476a62504748345047587a50576e6c69543d3d'}], 'transaction_extensions': [], 'signatures': ['SIG_K1_K4XursLr3XcKgfDvxdPwzmNeUa6CA5rkVyCHjf7oYFa5f8Jp4xy9DBk2JRQHk3qusNGHJV2B1cQa3UBoNwJWDTFzoB1DwF'], 'context_free_data': []}\n",
      "80315001 {'expiration': '2019-09-20T06:06:00', 'ref_block_num': 33398, 'ref_block_prefix': 3345516913, 'max_net_usage_words': 0, 'max_cpu_usage_ms': 0, 'delay_sec': 0, 'context_free_actions': [], 'actions': [{'account': 'eosreeladmin', 'name': 'resolvedoor', 'authorization': [{'actor': 'eosreeladmin', 'permission': 'active'}], 'data': 'e2e222e3919598d3001f6181ac9ee1048c44be7ae5b7390e05cb4edb5dfe4c879c3300031738a7b10db009b842f950a143591e047b4ceea5d202ecb2ab794781d6a2d72da5ae4bb35ad7'}], 'transaction_extensions': [], 'signatures': ['SIG_K1_KkRWoudyVqrSqqsefh8wqsQ53HUF2EMGuiJH7L3KMzatSNar2hn98qx1pdUyjMtoDpev4oRvK2SondDwyBxiazSFgoNSzw'], 'context_free_data': []}\n",
      "80315001 {'expiration': '2019-09-20T06:01:23', 'ref_block_num': 33050, 'ref_block_prefix': 3999817797, 'max_net_usage_words': 0, 'max_cpu_usage_ms': 0, 'delay_sec': 0, 'context_free_actions': [], 'actions': [{'account': 'pornhashbaby', 'name': 'record', 'authorization': [{'actor': 'bnr324342445', 'permission': 'active'}], 'data': '500811641031ee3c62317c68624d3243414d63645a39784c6d726a4c6d4c6c4f46446c674b6f7a43564c364c464d50645a776f4c6c7a6a4c70396c6470596d67464c364c464d45667155734232616f4f636a7a506d6a32515754635047483350475062506d426c69543d3d'}], 'transaction_extensions': [], 'signatures': ['SIG_K1_KBEZeWM7fXrNxFk1qRuHLuk2BmJGtMCn66Pw1S7GYM4m22sE1jqxcZFGDgS5mqkZqnV3psjdwT7vL6pPoJ8pz3p2idrqGq'], 'context_free_data': []}\n",
      "80315001 {'expiration': '2019-09-20T06:01:30', 'ref_block_num': 33399, 'ref_block_prefix': 36574834, 'max_net_usage_words': 0, 'max_cpu_usage_ms': 0, 'delay_sec': 0, 'context_free_actions': [], 'actions': [{'account': 'newdexpublic', 'name': 'refund', 'authorization': [{'actor': 'newdexadmin1', 'permission': 'active'}], 'data': '02'}], 'transaction_extensions': [], 'signatures': ['SIG_K1_KXDXTuUDmAQ4SmsqeZiTQMestDuN68Bqgzvmrqop3JVBBwGa2iaUg214af5PwadSfVDkGex37rCYHJgDaVU8WgGptaU5s2'], 'context_free_data': []}\n",
      "80315001 {'expiration': '2019-09-20T06:01:30', 'ref_block_num': 33399, 'ref_block_prefix': 36574834, 'max_net_usage_words': 0, 'max_cpu_usage_ms': 0, 'delay_sec': 0, 'context_free_actions': [], 'actions': [{'account': 'newdexpublic', 'name': 'tradebatch', 'authorization': [{'actor': 'newdexadmin1', 'permission': 'active'}], 'data': '02'}], 'transaction_extensions': [], 'signatures': ['SIG_K1_KWSsA4x18SuQfWLHesEsWB7RguzKxBLMkizr3NUAB9axuYimt9qsYL2RPhXHpRGPSWoaRk76ukXs58pEPk42yPErqXRY5T'], 'context_free_data': []}\n",
      "80315001 {'expiration': '2019-09-20T06:01:30', 'ref_block_num': 33396, 'ref_block_prefix': 195208056, 'max_net_usage_words': 0, 'max_cpu_usage_ms': 0, 'delay_sec': 0, 'context_free_actions': [], 'actions': [{'account': 'eossanguoone', 'name': 'sellmat', 'authorization': [{'actor': 'gerwaq231352', 'permission': 'active'}], 'data': '20ca084358c3af62020a000000000000320000000000000004454f53000000007082c9048e551f8a'}], 'transaction_extensions': [], 'signatures': ['SIG_K1_KfnBuipaT5rWt8NaEJhTo1i2KTT6E7kUWZoAJVQSe85UgjdBL3aXHdUhZDy9SAGUHPA1gyo8QXp6iHYeFScbVdA8F53RUx'], 'context_free_data': []}\n",
      "80315001 {'expiration': '2019-09-20T06:01:30', 'ref_block_num': 33074, 'ref_block_prefix': 3592568756, 'max_net_usage_words': 0, 'max_cpu_usage_ms': 0, 'delay_sec': 0, 'context_free_actions': [], 'actions': [{'account': 'whaleextrust', 'name': 'verifyad', 'authorization': [{'actor': 'walvalidator', 'permission': 'active'}], 'data': 'c0a669a82b154de350e94dd719154de350c810a1c7166d5b718cc7000000000010a4000000000000034943590000000090917af456bf2872'}], 'transaction_extensions': [], 'signatures': ['SIG_K1_JxZqsAoniJdbdhf4v2Xu2JgZrneALzskY4vLADDcSSb3Ru1Xsq1enDxnFnE4JAMwemcTKbDzhs8GBgrmyExe725vG6D2cg'], 'context_free_data': []}\n",
      "80315001 {'expiration': '2019-09-20T06:01:30', 'ref_block_num': 33399, 'ref_block_prefix': 36574834, 'max_net_usage_words': 0, 'max_cpu_usage_ms': 0, 'delay_sec': 0, 'context_free_actions': [], 'actions': [{'account': 'usdecontract', 'name': 'updatereward', 'authorization': [{'actor': 'rewardrenews', 'permission': 'active'}], 'data': '540d0000091873696d706c6573696d706c652d3733353637312d333531331873696d706c6573696d706c652d3133393039312d333531341573696d706c6573696d706c652d3132342d333532331573696d706c6573696d706c652d3237392d333533321573696d706c6573696d706c652d3237382d333534361573696d706c6573696d706c652d3235392d333535361573696d706c6573696d706c652d3234302d333536381573696d706c6573696d706c652d3231302d333537381573696d706c6573696d706c652d3234392d33363033'}], 'transaction_extensions': [], 'signatures': ['SIG_K1_KVG39TLjMroB95fpYSVzhPVXbvY6ZKo9ggBxZKKuXQtMLD5eTdb3cabcwEfzdAM58WpcqwnWTAfLBTgrWiXYQrC2AYZR4T'], 'context_free_data': []}\n",
      "80315001 {'expiration': '2019-09-20T06:01:28', 'ref_block_num': 33394, 'ref_block_prefix': 191425309, 'max_net_usage_words': 0, 'max_cpu_usage_ms': 0, 'delay_sec': 0, 'context_free_actions': [], 'actions': [{'account': 'betdicetasks', 'name': 'removetask', 'authorization': [{'actor': 'betdicegroup', 'permission': 'tasksserver'}], 'data': '3f3b2447b7f6a7158a3d1666dce42353878eaa0839e73b1251cf1d1e6b3a7712'}], 'transaction_extensions': [], 'signatures': ['SIG_K1_KjXgzKeJZZdBowm3aDAdeiXVNkcHxoqDoew7iVYBAfiK3FcAxpR1EE6ZLXV2wETkwt5hUPbaSMxVg4Pu52Wf1f59mWtu5k'], 'context_free_data': []}\n",
      "80315001 {'expiration': '2019-09-20T06:01:29', 'ref_block_num': 33395, 'ref_block_prefix': 2840268632, 'max_net_usage_words': 0, 'max_cpu_usage_ms': 0, 'delay_sec': 0, 'context_free_actions': [], 'actions': [{'account': 'betdicetasks', 'name': 'withdraw', 'authorization': [{'actor': 'betdicegroup', 'permission': 'tasksserver'}], 'data': 'efb16da15a82a33a1c198b9a599788759c4d8e5f1cdfe7976f4bae439a66f28e0080422e01305dc5802136592197b23a609b9ad76ceb0d611027000000000000045350494e0000000739373235343134'}], 'transaction_extensions': [], 'signatures': ['SIG_K1_K8xfaHmTQbU9hY6FsQnzRpNBW89WTm7HNG6A9vtv4jEg2Dr8G14NwyWhUhxLZSexfSajpw4PuXawdjYhyQn4Ky3YVCDWcE'], 'context_free_data': []}\n",
      "80315001 {'expiration': '2019-09-20T06:02:00', 'ref_block_num': 33062, 'ref_block_prefix': 1711041669, 'max_net_usage_words': 0, 'max_cpu_usage_ms': 0, 'delay_sec': 0, 'context_free_actions': [], 'actions': [{'account': 'scratchcards', 'name': 'welcome', 'authorization': [{'actor': 'cardsprinter', 'permission': 'active'}], 'data': '364869476f6c6420536372617463684361726473207c2068747470733a2f2f636172642e68692e676f6c64207c20623064386131376334'}], 'transaction_extensions': [], 'signatures': ['SIG_K1_K6Bdt6AWUHjJUrtJZJa9sJgM6tKreHeWofEkoQ8i4Hnrez7czvQLdzd68w2LxJBdgyYKxtJQUbRgePesyJnzGQduSiCnrh'], 'context_free_data': []}\n",
      "80315001 {'expiration': '2019-09-20T06:01:31', 'ref_block_num': 33399, 'ref_block_prefix': 36574834, 'max_net_usage_words': 0, 'max_cpu_usage_ms': 0, 'delay_sec': 0, 'context_free_actions': [], 'actions': [{'account': 'eosplayaloud', 'name': 'yell', 'authorization': [{'actor': 'eosplayaloud', 'permission': 'active'}], 'data': '90348dc69b5831559d01e58cbae59d97e993be204861736820e580bce5bc80e5a596e5b9b3e58fb020454f53506c617920e696b0e6b8b8e6888f204841534820e7899be7899be4b88ae7babf2120e58fa6e69c89e4b990e9808f2ce9aab0e5ad902ce88081e8998ee69cbae7ad89e79d80e682a8e8b5a2e5be97e5a596e6b1a0e59b9ee68aa52121212068747470733a2f2f656f73706c61792e636f6d2f3f6164643133633638'}], 'transaction_extensions': [], 'signatures': ['SIG_K1_Kd4GTwNz5B8SPrcWx5Vh1GQAnS48Kthj5EBpzyCZgCPpAdug3X28rQQijzZfJopaSv9YbcNJsgnx13ivv1eSSVFJe7XKdn'], 'context_free_data': []}\n",
      "80315001 {'expiration': '2019-09-20T06:02:00', 'ref_block_num': 33399, 'ref_block_prefix': 36574834, 'max_net_usage_words': 0, 'max_cpu_usage_ms': 0, 'delay_sec': 0, 'context_free_actions': [], 'actions': [{'account': 'pornhashbaby', 'name': 'record', 'authorization': [{'actor': 'bnr455141125', 'permission': 'owner'}], 'data': '504408249442ee3c5a317c68624d3243414d63645a39784c6d726c506c4c764c715535664a586c526c4d50645a776f4c6c7a6c65324d74435a51304c6d726c54414d30645a51764356383352474830506d6a315163447a5247447a505744344c71303d'}], 'transaction_extensions': [], 'signatures': ['SIG_K1_KYe61EdHFo3ooGtBFnVKU8qAkfdB9FCKMCpJXwJB7PEEVHgkjT7ta7zCyy7ipdg635ixZLp47z1473pqcq7EZm7c2a2E5L'], 'context_free_data': []}\n",
      "80315001 {'expiration': '2019-09-20T06:01:59', 'ref_block_num': 33395, 'ref_block_prefix': 2840268632, 'max_net_usage_words': 0, 'max_cpu_usage_ms': 0, 'delay_sec': 0, 'context_free_actions': [], 'actions': [{'account': 'betdicegroup', 'name': 'payout', 'authorization': [{'actor': 'betdicegroup', 'permission': 'active'}], 'data': 'f81a000000000000'}], 'transaction_extensions': [], 'signatures': ['SIG_K1_KBx3a9W16b67LWSAa6782Dpw9w4vemzzgP9hKj2dK6k3Yrbn36epArQVyDZGFhwJRYdqUgTBdZs92A1MSzr2NM7hgSzJs1'], 'context_free_data': []}\n",
      "80315001 {'expiration': '2019-09-20T06:05:59', 'ref_block_num': 33062, 'ref_block_prefix': 1711041669, 'max_net_usage_words': 0, 'max_cpu_usage_ms': 0, 'delay_sec': 0, 'context_free_actions': [], 'actions': [{'account': 'eossanguoone', 'name': 'sellmat', 'authorization': [{'actor': 'kpkkfreedoms', 'permission': 'active'}], 'data': '80254d4add056185e100000000000000320000000000000004454f53000000006f82c904444e8ae2'}], 'transaction_extensions': [], 'signatures': ['SIG_K1_K8udZg3igRwiSRzB6mF7zEvFxkYs9yyVzuzrzgGG5vjtUqhKCYyYZtPS5j6MVsSoaZegPwwHDv5PQ4ihEGSeQQcQKTxqGw'], 'context_free_data': []}\n",
      "80315001 {'expiration': '2019-09-20T06:01:31', 'ref_block_num': 33074, 'ref_block_prefix': 3592568756, 'max_net_usage_words': 0, 'max_cpu_usage_ms': 0, 'delay_sec': 0, 'context_free_actions': [], 'actions': [{'account': 'ipsouminer11', 'name': 'awards', 'authorization': [{'actor': 'ipsouminer11', 'permission': 'active'}], 'data': '308453dcb5cfa6e1aecbf90f0000000008495043000000000141b4000000'}], 'transaction_extensions': [], 'signatures': ['SIG_K1_KWkDivz9EYwMntv4GzdUuiQXYKkccxgNsMsB5BPPUYzhCDU99gzRo6toViYmCanQ51hYGi8mUpF1zapC9Rkm9RuLR49LZx'], 'context_free_data': []}\n",
      "80315001 {'expiration': '2019-09-20T06:01:31', 'ref_block_num': 33074, 'ref_block_prefix': 3592568756, 'max_net_usage_words': 0, 'max_cpu_usage_ms': 0, 'delay_sec': 0, 'context_free_actions': [], 'actions': [{'account': 'ipsouipfseos', 'name': 'transfer', 'authorization': [{'actor': 'ipsouminer11', 'permission': 'active'}], 'data': '10c255d3494d7175308453dcb5cfa6e1c5fa980100000000084950534f0000000135'}], 'transaction_extensions': [], 'signatures': ['SIG_K1_KbVxWaBHnYJNJPagZKM9ZZv9Zdw7tfnKyvoE8cGQQ4qxLjjCnQBo6C5bV1ZhukvdmSXetmfd9dMYT9Mbys17A3kxLgSjAZ'], 'context_free_data': []}\n",
      "80315001 {'expiration': '2019-09-20T06:01:31', 'ref_block_num': 33399, 'ref_block_prefix': 36574834, 'max_net_usage_words': 0, 'max_cpu_usage_ms': 0, 'delay_sec': 0, 'context_free_actions': [], 'actions': [{'account': 'eosplayaloud', 'name': 'yell', 'authorization': [{'actor': 'eosplayaloud', 'permission': 'active'}], 'data': '10028dae6575305551454f53506c6179204e65772047616d65204f6e6c696e65202d20534c4f5453212057494e205448452042494720424f4e5553212068747470733a2f2f656f73706c61792e636f6d2f3f6262326363343966'}], 'transaction_extensions': [], 'signatures': ['SIG_K1_KBwKjYnJaSeELwgw22WnGdDyfN3LYBNAtuQvsNHUTdwuukocJni99NiaiaavbtCRWdHPeU6qVneEGvjP25qSeeYBj5An6Z'], 'context_free_data': []}\n",
      "80315001 {'expiration': '2019-09-20T06:01:29', 'ref_block_num': 33395, 'ref_block_prefix': 2840268632, 'max_net_usage_words': 0, 'max_cpu_usage_ms': 0, 'delay_sec': 0, 'context_free_actions': [], 'actions': [{'account': 'betdicetasks', 'name': 'log', 'authorization': [{'actor': 'betdicegroup', 'permission': 'tasksserver'}], 'data': '4c52372839d5471279efda9e8f9ad453c668db8dfc5abf847ca76457f359c4875044c06952291dcecc017b2267616d654e616d65223a22626c61636b6a61636b222c2267616d654964223a313233323033362c22616374696f6e223a22686974222c2274696d65223a22323031392d30392d32305430363a30303a35322e3132305a222c22616374696f6e536571223a322c22706c6179657243617264536574223a5b7b22626173655761676572223a31303030302c22646f75626c655761676572223a302c22696e737572616e63655761676572223a302c22666f637573223a747275652c22726573756c74223a6e756c6c7d5d7d'}], 'transaction_extensions': [], 'signatures': ['SIG_K1_K1wxcWBWMoDZ98EeFvGzyGkb3doayezvRi2fXhBhJLumGRtE3GCCw8gqDjxigVwknfbqP1XPxfTZ2EtSf4pyLfG1rmCWzg'], 'context_free_data': []}\n"
     ]
    },
    {
     "data": {
      "text/plain": [
       "True"
      ]
     },
     "execution_count": 30,
     "metadata": {},
     "output_type": "execute_result"
    }
   ],
   "source": [
    "from pyeoskit import eosapi\n",
    "from pyeoskit.block_log import BlockParser\n",
    "\n",
    "class MyBlockParser(BlockParser):\n",
    "    def on_transaction(self, block_num, trx):\n",
    "        print(block_num, trx)\n",
    "        return\n",
    "\n",
    "block_log_path = '/Users/newworld/dev/uuos2/build/programs/main-dd/blocks'\n",
    "parser = MyBlockParser(block_log_path)\n",
    "head = parser.get_head_block()\n",
    "#print('head block', head)\n",
    "\n",
    "num = parser.get_first_block_num()\n",
    "print(num)\n",
    "parser.parse_transactions(num, num)\n"
   ]
  },
  {
   "cell_type": "code",
   "execution_count": 1,
   "metadata": {},
   "outputs": [
    {
     "name": "stdout",
     "output_type": "stream",
     "text": [
      "80315001\n",
      "80315001 b'{\"account\":\"blackjack.e\",\"name\":\"playeraction\",\"authorization\":[{\"actor\":\"libertyhome1\",\"permission\":\"active\"}],\"data\":\"1094a4cde7ab8e8bb85e1800000000000400000000000000\"}'\n",
      "80315001 b'{\"account\":\"betdicegroup\",\"name\":\"payout\",\"authorization\":[{\"actor\":\"betdicegroup\",\"permission\":\"active\"}],\"data\":\"4b11000000000000\"}'\n",
      "80315001 b'{\"account\":\"eosio.token\",\"name\":\"transfer\",\"authorization\":[{\"actor\":\"gjnhrje4bw4l\",\"permission\":\"active\"}],\"data\":\"10093f44bddbe663009179d830b53155f40100000000000004454f530000000008747970655b38385d\"}'\n",
      "80315001 b'{\"account\":\"betdicegroup\",\"name\":\"payout\",\"authorization\":[{\"actor\":\"betdicegroup\",\"permission\":\"active\"}],\"data\":\"9d23000000000000\"}'\n",
      "80315001 b'{\"account\":\"ghtclubtoken\",\"name\":\"transfer\",\"authorization\":[{\"actor\":\"ghtclubbank1\",\"permission\":\"active\"}],\"data\":\"10e034e7e8887263309d4ce6e888726330750000000000000447485400000000347472616e736665723a20307837633961653035366531383735396231336464616635646637383035383561333131333334303061\"}'\n",
      "80315001 b'{\"account\":\"pornhashbaby\",\"name\":\"record\",\"authorization\":[{\"actor\":\"bnr421441235\",\"permission\":\"active\"}],\"data\":\"508608840441ee3c62317c68624d3243414d63645a39784c6d726a4c6d4c6c4f46446c674b6f7a43564c364c464d50645a776f4c6c7a6a4c70396c6470596d67464c364c464d45667155734232616f4f636a7a506d6a6352476a62504748345047587a50576e6c69543d3d\"}'\n",
      "80315001 b'{\"account\":\"eosreeladmin\",\"name\":\"resolvedoor\",\"authorization\":[{\"actor\":\"eosreeladmin\",\"permission\":\"active\"}],\"data\":\"e2e222e3919598d3001f6181ac9ee1048c44be7ae5b7390e05cb4edb5dfe4c879c3300031738a7b10db009b842f950a143591e047b4ceea5d202ecb2ab794781d6a2d72da5ae4bb35ad7\"}'\n",
      "80315001 b'{\"account\":\"pornhashbaby\",\"name\":\"record\",\"authorization\":[{\"actor\":\"bnr324342445\",\"permission\":\"active\"}],\"data\":\"500811641031ee3c62317c68624d3243414d63645a39784c6d726a4c6d4c6c4f46446c674b6f7a43564c364c464d50645a776f4c6c7a6a4c70396c6470596d67464c364c464d45667155734232616f4f636a7a506d6a32515754635047483350475062506d426c69543d3d\"}'\n",
      "80315001 b'{\"account\":\"newdexpublic\",\"name\":\"refund\",\"authorization\":[{\"actor\":\"newdexadmin1\",\"permission\":\"active\"}],\"data\":\"02\"}'\n",
      "80315001 b'{\"account\":\"newdexpublic\",\"name\":\"tradebatch\",\"authorization\":[{\"actor\":\"newdexadmin1\",\"permission\":\"active\"}],\"data\":\"02\"}'\n",
      "80315001 b'{\"account\":\"eossanguoone\",\"name\":\"sellmat\",\"authorization\":[{\"actor\":\"gerwaq231352\",\"permission\":\"active\"}],\"data\":\"20ca084358c3af62020a000000000000320000000000000004454f53000000007082c9048e551f8a\"}'\n",
      "80315001 b'{\"account\":\"whaleextrust\",\"name\":\"verifyad\",\"authorization\":[{\"actor\":\"walvalidator\",\"permission\":\"active\"}],\"data\":\"c0a669a82b154de350e94dd719154de350c810a1c7166d5b718cc7000000000010a4000000000000034943590000000090917af456bf2872\"}'\n",
      "80315001 b'{\"account\":\"usdecontract\",\"name\":\"updatereward\",\"authorization\":[{\"actor\":\"rewardrenews\",\"permission\":\"active\"}],\"data\":\"540d0000091873696d706c6573696d706c652d3733353637312d333531331873696d706c6573696d706c652d3133393039312d333531341573696d706c6573696d706c652d3132342d333532331573696d706c6573696d706c652d3237392d333533321573696d706c6573696d706c652d3237382d333534361573696d706c6573696d706c652d3235392d333535361573696d706c6573696d706c652d3234302d333536381573696d706c6573696d706c652d3231302d333537381573696d706c6573696d706c652d3234392d33363033\"}'\n",
      "80315001 b'{\"account\":\"betdicetasks\",\"name\":\"removetask\",\"authorization\":[{\"actor\":\"betdicegroup\",\"permission\":\"tasksserver\"}],\"data\":\"3f3b2447b7f6a7158a3d1666dce42353878eaa0839e73b1251cf1d1e6b3a7712\"}'\n",
      "80315001 b'{\"account\":\"betdicetasks\",\"name\":\"withdraw\",\"authorization\":[{\"actor\":\"betdicegroup\",\"permission\":\"tasksserver\"}],\"data\":\"efb16da15a82a33a1c198b9a599788759c4d8e5f1cdfe7976f4bae439a66f28e0080422e01305dc5802136592197b23a609b9ad76ceb0d611027000000000000045350494e0000000739373235343134\"}'\n",
      "80315001 b'{\"account\":\"scratchcards\",\"name\":\"welcome\",\"authorization\":[{\"actor\":\"cardsprinter\",\"permission\":\"active\"}],\"data\":\"364869476f6c6420536372617463684361726473207c2068747470733a2f2f636172642e68692e676f6c64207c20623064386131376334\"}'\n",
      "80315001 b'{\"account\":\"eosplayaloud\",\"name\":\"yell\",\"authorization\":[{\"actor\":\"eosplayaloud\",\"permission\":\"active\"}],\"data\":\"90348dc69b5831559d01e58cbae59d97e993be204861736820e580bce5bc80e5a596e5b9b3e58fb020454f53506c617920e696b0e6b8b8e6888f204841534820e7899be7899be4b88ae7babf2120e58fa6e69c89e4b990e9808f2ce9aab0e5ad902ce88081e8998ee69cbae7ad89e79d80e682a8e8b5a2e5be97e5a596e6b1a0e59b9ee68aa52121212068747470733a2f2f656f73706c61792e636f6d2f3f6164643133633638\"}'\n",
      "80315001 b'{\"account\":\"pornhashbaby\",\"name\":\"record\",\"authorization\":[{\"actor\":\"bnr455141125\",\"permission\":\"owner\"}],\"data\":\"504408249442ee3c5a317c68624d3243414d63645a39784c6d726c506c4c764c715535664a586c526c4d50645a776f4c6c7a6c65324d74435a51304c6d726c54414d30645a51764356383352474830506d6a315163447a5247447a505744344c71303d\"}'\n",
      "80315001 b'{\"account\":\"betdicegroup\",\"name\":\"payout\",\"authorization\":[{\"actor\":\"betdicegroup\",\"permission\":\"active\"}],\"data\":\"f81a000000000000\"}'\n",
      "80315001 b'{\"account\":\"eossanguoone\",\"name\":\"sellmat\",\"authorization\":[{\"actor\":\"kpkkfreedoms\",\"permission\":\"active\"}],\"data\":\"80254d4add056185e100000000000000320000000000000004454f53000000006f82c904444e8ae2\"}'\n",
      "80315001 b'{\"account\":\"ipsouminer11\",\"name\":\"awards\",\"authorization\":[{\"actor\":\"ipsouminer11\",\"permission\":\"active\"}],\"data\":\"308453dcb5cfa6e1aecbf90f0000000008495043000000000141b4000000\"}'\n",
      "80315001 b'{\"account\":\"ipsouipfseos\",\"name\":\"transfer\",\"authorization\":[{\"actor\":\"ipsouminer11\",\"permission\":\"active\"}],\"data\":\"10c255d3494d7175308453dcb5cfa6e1c5fa980100000000084950534f0000000135\"}'\n",
      "80315001 b'{\"account\":\"eosplayaloud\",\"name\":\"yell\",\"authorization\":[{\"actor\":\"eosplayaloud\",\"permission\":\"active\"}],\"data\":\"10028dae6575305551454f53506c6179204e65772047616d65204f6e6c696e65202d20534c4f5453212057494e205448452042494720424f4e5553212068747470733a2f2f656f73706c61792e636f6d2f3f6262326363343966\"}'\n",
      "80315001 b'{\"account\":\"betdicetasks\",\"name\":\"log\",\"authorization\":[{\"actor\":\"betdicegroup\",\"permission\":\"tasksserver\"}],\"data\":\"4c52372839d5471279efda9e8f9ad453c668db8dfc5abf847ca76457f359c4875044c06952291dcecc017b2267616d654e616d65223a22626c61636b6a61636b222c2267616d654964223a313233323033362c22616374696f6e223a22686974222c2274696d65223a22323031392d30392d32305430363a30303a35322e3132305a222c22616374696f6e536571223a322c22706c6179657243617264536574223a5b7b22626173655761676572223a31303030302c22646f75626c655761676572223a302c22696e737572616e63655761676572223a302c22666f637573223a747275652c22726573756c74223a6e756c6c7d5d7d\"}'\n",
      "done!\n"
     ]
    }
   ],
   "source": [
    "from pyeoskit import eosapi\n",
    "from pyeoskit.block_log import BlockParser\n",
    "\n",
    "class MyBlockParser(BlockParser):\n",
    "\n",
    "    def on_transaction(self, block_num, trx):\n",
    "        print(block_num, trx)\n",
    "        return\n",
    "\n",
    "    def on_action(self, block_num, act):\n",
    "        print(block_num, act)\n",
    "        return\n",
    "        print(block_num, trx)\n",
    "\n",
    "block_log_path = '/Users/newworld/dev/uuos2/build/programs/main-dd/blocks'\n",
    "parser = MyBlockParser(block_log_path)\n",
    "head = parser.get_head_block()\n",
    "#print('head block', head)\n",
    "\n",
    "num = parser.get_first_block_num()\n",
    "print(num)\n",
    "parser.parse_actions(num, num)\n",
    "#parser.parse_transactions(num, num)\n",
    "\n",
    "print('done!')"
   ]
  },
  {
   "cell_type": "code",
   "execution_count": 1,
   "metadata": {},
   "outputs": [
    {
     "name": "stdout",
     "output_type": "stream",
     "text": [
      "head block None\n",
      "++++first_block_num 80315001\n",
      "10000\n",
      "20000\n",
      "30000\n",
      "40000\n",
      "50000\n",
      "60000\n",
      "70000\n",
      "80000\n",
      "90000\n",
      "100000\n",
      "110000\n",
      "120000\n",
      "130000\n",
      "140000\n",
      "150000\n",
      "160000\n",
      "170000\n",
      "180000\n",
      "190000\n",
      "200000\n",
      "210000\n",
      "220000\n",
      "230000\n",
      "240000\n",
      "250000\n",
      "260000\n",
      "270000\n",
      "280000\n",
      "290000\n",
      "300000\n",
      "310000\n",
      "320000\n",
      "330000\n",
      "340000\n",
      "350000\n",
      "360000\n",
      "370000\n",
      "380000\n",
      "390000\n",
      "400000\n",
      "410000\n",
      "420000\n",
      "430000\n",
      "440000\n",
      "450000\n",
      "460000\n",
      "470000\n",
      "480000\n",
      "490000\n",
      "500000\n",
      "510000\n",
      "520000\n",
      "530000\n",
      "540000\n",
      "550000\n",
      "560000\n",
      "570000\n",
      "580000\n",
      "590000\n",
      "+++transaction_count 595019\n"
     ]
    }
   ],
   "source": [
    "from pyeoskit import eosapi\n",
    "from pyeoskit.block_log import BlockParser\n",
    "\n",
    "class CallbackWrapper(BlockParser):\n",
    "    def on_transaction(self, block_num, trx):\n",
    "        return\n",
    "\n",
    "class MyBlockParser:\n",
    "\n",
    "    def __init__(self, block_log_path):\n",
    "        self.parser = CallbackWrapper(block_log_path)\n",
    "        self.parser.on_transaction = self.on_transaction\n",
    "        self.transaction_count = 0\n",
    "\n",
    "    def get_head_block(self):\n",
    "        self.parser.get_head_block()\n",
    "    \n",
    "    def get_first_block_num(self):\n",
    "        return self.parser.get_first_block_num()\n",
    "        \n",
    "    def on_transaction(self, block_num, trx):\n",
    "#        print(block_num, trx)\n",
    "        self.transaction_count += 1\n",
    "        if self.transaction_count % 10000 == 0:\n",
    "            print(self.transaction_count)\n",
    "        return\n",
    "\n",
    "    def parse_transactions(self, block_start, block_end):\n",
    "        return self.parser.parse_transactions(block_start, block_end)\n",
    "\n",
    "\n",
    "block_log_path = '/Users/newworld/dev/uuos2/build/programs/main-dd/blocks'\n",
    "parser = MyBlockParser(block_log_path)\n",
    "head = parser.get_head_block()\n",
    "print('head block', head)\n",
    "\n",
    "num = parser.get_first_block_num()\n",
    "print('++++first_block_num', num)\n",
    "parser.parse_transactions(num, num+20000)\n",
    "print('+++transaction_count', parser.transaction_count)\n"
   ]
  },
  {
   "cell_type": "code",
   "execution_count": 2,
   "metadata": {},
   "outputs": [
    {
     "data": {
      "text/plain": [
       "20"
      ]
     },
     "execution_count": 2,
     "metadata": {},
     "output_type": "execute_result"
    }
   ],
   "source": [
    "import gc\n",
    "gc.collect()"
   ]
  },
  {
   "cell_type": "code",
   "execution_count": 37,
   "metadata": {},
   "outputs": [
    {
     "ename": "MaxRetryError",
     "evalue": "HTTPConnectionPool(host='127.0.0.1', port=8888): Max retries exceeded with url: /v1/chain/get_info (Caused by NewConnectionError('<urllib3.connection.HTTPConnection object at 0x1f8e110f0>: Failed to establish a new connection: [Errno 61] Connection refused'))",
     "output_type": "error",
     "traceback": [
      "\u001b[0;31m---------------------------------------------------------------------------\u001b[0m",
      "\u001b[0;31mConnectionRefusedError\u001b[0m                    Traceback (most recent call last)",
      "\u001b[0;32m~/anaconda3/lib/python3.7/site-packages/urllib3/connection.py\u001b[0m in \u001b[0;36m_new_conn\u001b[0;34m(self)\u001b[0m\n\u001b[1;32m    158\u001b[0m             conn = connection.create_connection(\n\u001b[0;32m--> 159\u001b[0;31m                 (self._dns_host, self.port), self.timeout, **extra_kw)\n\u001b[0m\u001b[1;32m    160\u001b[0m \u001b[0;34m\u001b[0m\u001b[0m\n",
      "\u001b[0;32m~/anaconda3/lib/python3.7/site-packages/urllib3/util/connection.py\u001b[0m in \u001b[0;36mcreate_connection\u001b[0;34m(address, timeout, source_address, socket_options)\u001b[0m\n\u001b[1;32m     79\u001b[0m     \u001b[0;32mif\u001b[0m \u001b[0merr\u001b[0m \u001b[0;32mis\u001b[0m \u001b[0;32mnot\u001b[0m \u001b[0;32mNone\u001b[0m\u001b[0;34m:\u001b[0m\u001b[0;34m\u001b[0m\u001b[0;34m\u001b[0m\u001b[0m\n\u001b[0;32m---> 80\u001b[0;31m         \u001b[0;32mraise\u001b[0m \u001b[0merr\u001b[0m\u001b[0;34m\u001b[0m\u001b[0;34m\u001b[0m\u001b[0m\n\u001b[0m\u001b[1;32m     81\u001b[0m \u001b[0;34m\u001b[0m\u001b[0m\n",
      "\u001b[0;32m~/anaconda3/lib/python3.7/site-packages/urllib3/util/connection.py\u001b[0m in \u001b[0;36mcreate_connection\u001b[0;34m(address, timeout, source_address, socket_options)\u001b[0m\n\u001b[1;32m     69\u001b[0m                 \u001b[0msock\u001b[0m\u001b[0;34m.\u001b[0m\u001b[0mbind\u001b[0m\u001b[0;34m(\u001b[0m\u001b[0msource_address\u001b[0m\u001b[0;34m)\u001b[0m\u001b[0;34m\u001b[0m\u001b[0;34m\u001b[0m\u001b[0m\n\u001b[0;32m---> 70\u001b[0;31m             \u001b[0msock\u001b[0m\u001b[0;34m.\u001b[0m\u001b[0mconnect\u001b[0m\u001b[0;34m(\u001b[0m\u001b[0msa\u001b[0m\u001b[0;34m)\u001b[0m\u001b[0;34m\u001b[0m\u001b[0;34m\u001b[0m\u001b[0m\n\u001b[0m\u001b[1;32m     71\u001b[0m             \u001b[0;32mreturn\u001b[0m \u001b[0msock\u001b[0m\u001b[0;34m\u001b[0m\u001b[0;34m\u001b[0m\u001b[0m\n",
      "\u001b[0;31mConnectionRefusedError\u001b[0m: [Errno 61] Connection refused",
      "\nDuring handling of the above exception, another exception occurred:\n",
      "\u001b[0;31mNewConnectionError\u001b[0m                        Traceback (most recent call last)",
      "\u001b[0;32m~/anaconda3/lib/python3.7/site-packages/urllib3/connectionpool.py\u001b[0m in \u001b[0;36murlopen\u001b[0;34m(self, method, url, body, headers, retries, redirect, assert_same_host, timeout, pool_timeout, release_conn, chunked, body_pos, **response_kw)\u001b[0m\n\u001b[1;32m    599\u001b[0m                                                   \u001b[0mbody\u001b[0m\u001b[0;34m=\u001b[0m\u001b[0mbody\u001b[0m\u001b[0;34m,\u001b[0m \u001b[0mheaders\u001b[0m\u001b[0;34m=\u001b[0m\u001b[0mheaders\u001b[0m\u001b[0;34m,\u001b[0m\u001b[0;34m\u001b[0m\u001b[0;34m\u001b[0m\u001b[0m\n\u001b[0;32m--> 600\u001b[0;31m                                                   chunked=chunked)\n\u001b[0m\u001b[1;32m    601\u001b[0m \u001b[0;34m\u001b[0m\u001b[0m\n",
      "\u001b[0;32m~/anaconda3/lib/python3.7/site-packages/urllib3/connectionpool.py\u001b[0m in \u001b[0;36m_make_request\u001b[0;34m(self, conn, method, url, timeout, chunked, **httplib_request_kw)\u001b[0m\n\u001b[1;32m    353\u001b[0m         \u001b[0;32melse\u001b[0m\u001b[0;34m:\u001b[0m\u001b[0;34m\u001b[0m\u001b[0;34m\u001b[0m\u001b[0m\n\u001b[0;32m--> 354\u001b[0;31m             \u001b[0mconn\u001b[0m\u001b[0;34m.\u001b[0m\u001b[0mrequest\u001b[0m\u001b[0;34m(\u001b[0m\u001b[0mmethod\u001b[0m\u001b[0;34m,\u001b[0m \u001b[0murl\u001b[0m\u001b[0;34m,\u001b[0m \u001b[0;34m**\u001b[0m\u001b[0mhttplib_request_kw\u001b[0m\u001b[0;34m)\u001b[0m\u001b[0;34m\u001b[0m\u001b[0;34m\u001b[0m\u001b[0m\n\u001b[0m\u001b[1;32m    355\u001b[0m \u001b[0;34m\u001b[0m\u001b[0m\n",
      "\u001b[0;32m~/anaconda3/lib/python3.7/http/client.py\u001b[0m in \u001b[0;36mrequest\u001b[0;34m(self, method, url, body, headers, encode_chunked)\u001b[0m\n\u001b[1;32m   1228\u001b[0m         \u001b[0;34m\"\"\"Send a complete request to the server.\"\"\"\u001b[0m\u001b[0;34m\u001b[0m\u001b[0;34m\u001b[0m\u001b[0m\n\u001b[0;32m-> 1229\u001b[0;31m         \u001b[0mself\u001b[0m\u001b[0;34m.\u001b[0m\u001b[0m_send_request\u001b[0m\u001b[0;34m(\u001b[0m\u001b[0mmethod\u001b[0m\u001b[0;34m,\u001b[0m \u001b[0murl\u001b[0m\u001b[0;34m,\u001b[0m \u001b[0mbody\u001b[0m\u001b[0;34m,\u001b[0m \u001b[0mheaders\u001b[0m\u001b[0;34m,\u001b[0m \u001b[0mencode_chunked\u001b[0m\u001b[0;34m)\u001b[0m\u001b[0;34m\u001b[0m\u001b[0;34m\u001b[0m\u001b[0m\n\u001b[0m\u001b[1;32m   1230\u001b[0m \u001b[0;34m\u001b[0m\u001b[0m\n",
      "\u001b[0;32m~/anaconda3/lib/python3.7/http/client.py\u001b[0m in \u001b[0;36m_send_request\u001b[0;34m(self, method, url, body, headers, encode_chunked)\u001b[0m\n\u001b[1;32m   1274\u001b[0m             \u001b[0mbody\u001b[0m \u001b[0;34m=\u001b[0m \u001b[0m_encode\u001b[0m\u001b[0;34m(\u001b[0m\u001b[0mbody\u001b[0m\u001b[0;34m,\u001b[0m \u001b[0;34m'body'\u001b[0m\u001b[0;34m)\u001b[0m\u001b[0;34m\u001b[0m\u001b[0;34m\u001b[0m\u001b[0m\n\u001b[0;32m-> 1275\u001b[0;31m         \u001b[0mself\u001b[0m\u001b[0;34m.\u001b[0m\u001b[0mendheaders\u001b[0m\u001b[0;34m(\u001b[0m\u001b[0mbody\u001b[0m\u001b[0;34m,\u001b[0m \u001b[0mencode_chunked\u001b[0m\u001b[0;34m=\u001b[0m\u001b[0mencode_chunked\u001b[0m\u001b[0;34m)\u001b[0m\u001b[0;34m\u001b[0m\u001b[0;34m\u001b[0m\u001b[0m\n\u001b[0m\u001b[1;32m   1276\u001b[0m \u001b[0;34m\u001b[0m\u001b[0m\n",
      "\u001b[0;32m~/anaconda3/lib/python3.7/http/client.py\u001b[0m in \u001b[0;36mendheaders\u001b[0;34m(self, message_body, encode_chunked)\u001b[0m\n\u001b[1;32m   1223\u001b[0m             \u001b[0;32mraise\u001b[0m \u001b[0mCannotSendHeader\u001b[0m\u001b[0;34m(\u001b[0m\u001b[0;34m)\u001b[0m\u001b[0;34m\u001b[0m\u001b[0;34m\u001b[0m\u001b[0m\n\u001b[0;32m-> 1224\u001b[0;31m         \u001b[0mself\u001b[0m\u001b[0;34m.\u001b[0m\u001b[0m_send_output\u001b[0m\u001b[0;34m(\u001b[0m\u001b[0mmessage_body\u001b[0m\u001b[0;34m,\u001b[0m \u001b[0mencode_chunked\u001b[0m\u001b[0;34m=\u001b[0m\u001b[0mencode_chunked\u001b[0m\u001b[0;34m)\u001b[0m\u001b[0;34m\u001b[0m\u001b[0;34m\u001b[0m\u001b[0m\n\u001b[0m\u001b[1;32m   1225\u001b[0m \u001b[0;34m\u001b[0m\u001b[0m\n",
      "\u001b[0;32m~/anaconda3/lib/python3.7/http/client.py\u001b[0m in \u001b[0;36m_send_output\u001b[0;34m(self, message_body, encode_chunked)\u001b[0m\n\u001b[1;32m   1015\u001b[0m         \u001b[0;32mdel\u001b[0m \u001b[0mself\u001b[0m\u001b[0;34m.\u001b[0m\u001b[0m_buffer\u001b[0m\u001b[0;34m[\u001b[0m\u001b[0;34m:\u001b[0m\u001b[0;34m]\u001b[0m\u001b[0;34m\u001b[0m\u001b[0;34m\u001b[0m\u001b[0m\n\u001b[0;32m-> 1016\u001b[0;31m         \u001b[0mself\u001b[0m\u001b[0;34m.\u001b[0m\u001b[0msend\u001b[0m\u001b[0;34m(\u001b[0m\u001b[0mmsg\u001b[0m\u001b[0;34m)\u001b[0m\u001b[0;34m\u001b[0m\u001b[0;34m\u001b[0m\u001b[0m\n\u001b[0m\u001b[1;32m   1017\u001b[0m \u001b[0;34m\u001b[0m\u001b[0m\n",
      "\u001b[0;32m~/anaconda3/lib/python3.7/http/client.py\u001b[0m in \u001b[0;36msend\u001b[0;34m(self, data)\u001b[0m\n\u001b[1;32m    955\u001b[0m             \u001b[0;32mif\u001b[0m \u001b[0mself\u001b[0m\u001b[0;34m.\u001b[0m\u001b[0mauto_open\u001b[0m\u001b[0;34m:\u001b[0m\u001b[0;34m\u001b[0m\u001b[0;34m\u001b[0m\u001b[0m\n\u001b[0;32m--> 956\u001b[0;31m                 \u001b[0mself\u001b[0m\u001b[0;34m.\u001b[0m\u001b[0mconnect\u001b[0m\u001b[0;34m(\u001b[0m\u001b[0;34m)\u001b[0m\u001b[0;34m\u001b[0m\u001b[0;34m\u001b[0m\u001b[0m\n\u001b[0m\u001b[1;32m    957\u001b[0m             \u001b[0;32melse\u001b[0m\u001b[0;34m:\u001b[0m\u001b[0;34m\u001b[0m\u001b[0;34m\u001b[0m\u001b[0m\n",
      "\u001b[0;32m~/anaconda3/lib/python3.7/site-packages/urllib3/connection.py\u001b[0m in \u001b[0;36mconnect\u001b[0;34m(self)\u001b[0m\n\u001b[1;32m    180\u001b[0m     \u001b[0;32mdef\u001b[0m \u001b[0mconnect\u001b[0m\u001b[0;34m(\u001b[0m\u001b[0mself\u001b[0m\u001b[0;34m)\u001b[0m\u001b[0;34m:\u001b[0m\u001b[0;34m\u001b[0m\u001b[0;34m\u001b[0m\u001b[0m\n\u001b[0;32m--> 181\u001b[0;31m         \u001b[0mconn\u001b[0m \u001b[0;34m=\u001b[0m \u001b[0mself\u001b[0m\u001b[0;34m.\u001b[0m\u001b[0m_new_conn\u001b[0m\u001b[0;34m(\u001b[0m\u001b[0;34m)\u001b[0m\u001b[0;34m\u001b[0m\u001b[0;34m\u001b[0m\u001b[0m\n\u001b[0m\u001b[1;32m    182\u001b[0m         \u001b[0mself\u001b[0m\u001b[0;34m.\u001b[0m\u001b[0m_prepare_conn\u001b[0m\u001b[0;34m(\u001b[0m\u001b[0mconn\u001b[0m\u001b[0;34m)\u001b[0m\u001b[0;34m\u001b[0m\u001b[0;34m\u001b[0m\u001b[0m\n",
      "\u001b[0;32m~/anaconda3/lib/python3.7/site-packages/urllib3/connection.py\u001b[0m in \u001b[0;36m_new_conn\u001b[0;34m(self)\u001b[0m\n\u001b[1;32m    167\u001b[0m             raise NewConnectionError(\n\u001b[0;32m--> 168\u001b[0;31m                 self, \"Failed to establish a new connection: %s\" % e)\n\u001b[0m\u001b[1;32m    169\u001b[0m \u001b[0;34m\u001b[0m\u001b[0m\n",
      "\u001b[0;31mNewConnectionError\u001b[0m: <urllib3.connection.HTTPConnection object at 0x1f8e110f0>: Failed to establish a new connection: [Errno 61] Connection refused",
      "\nDuring handling of the above exception, another exception occurred:\n",
      "\u001b[0;31mMaxRetryError\u001b[0m                             Traceback (most recent call last)",
      "\u001b[0;32m<ipython-input-37-fb34d406c533>\u001b[0m in \u001b[0;36m<module>\u001b[0;34m\u001b[0m\n\u001b[0;32m----> 1\u001b[0;31m \u001b[0meosapi\u001b[0m\u001b[0;34m.\u001b[0m\u001b[0mget_info\u001b[0m\u001b[0;34m(\u001b[0m\u001b[0;34m)\u001b[0m\u001b[0;34m\u001b[0m\u001b[0;34m\u001b[0m\u001b[0m\n\u001b[0m",
      "\u001b[0;32m~/anaconda3/lib/python3.7/site-packages/pyeoskit/eosapi.py\u001b[0m in \u001b[0;36mget_info\u001b[0;34m(self)\u001b[0m\n\u001b[1;32m    179\u001b[0m \u001b[0;34m\u001b[0m\u001b[0m\n\u001b[1;32m    180\u001b[0m     \u001b[0;32mdef\u001b[0m \u001b[0mget_info\u001b[0m\u001b[0;34m(\u001b[0m\u001b[0mself\u001b[0m\u001b[0;34m)\u001b[0m\u001b[0;34m:\u001b[0m\u001b[0;34m\u001b[0m\u001b[0;34m\u001b[0m\u001b[0m\n\u001b[0;32m--> 181\u001b[0;31m         \u001b[0minfo\u001b[0m \u001b[0;34m=\u001b[0m \u001b[0mself\u001b[0m\u001b[0;34m.\u001b[0m\u001b[0mclient\u001b[0m\u001b[0;34m.\u001b[0m\u001b[0mget_info\u001b[0m\u001b[0;34m(\u001b[0m\u001b[0;34m)\u001b[0m\u001b[0;34m\u001b[0m\u001b[0;34m\u001b[0m\u001b[0m\n\u001b[0m\u001b[1;32m    182\u001b[0m         \u001b[0mdb\u001b[0m\u001b[0;34m.\u001b[0m\u001b[0mset_info\u001b[0m\u001b[0;34m(\u001b[0m\u001b[0minfo\u001b[0m\u001b[0;34m)\u001b[0m\u001b[0;34m\u001b[0m\u001b[0;34m\u001b[0m\u001b[0m\n\u001b[1;32m    183\u001b[0m         \u001b[0;32mreturn\u001b[0m \u001b[0mdb\u001b[0m\u001b[0;34m.\u001b[0m\u001b[0mget_info\u001b[0m\u001b[0;34m(\u001b[0m\u001b[0;34m)\u001b[0m\u001b[0;34m\u001b[0m\u001b[0;34m\u001b[0m\u001b[0m\n",
      "\u001b[0;32m~/anaconda3/lib/python3.7/site-packages/pyeoskit/client.py\u001b[0m in \u001b[0;36mget_info\u001b[0;34m(self)\u001b[0m\n\u001b[1;32m     83\u001b[0m             \u001b[0mapi\u001b[0m\u001b[0;34m=\u001b[0m\u001b[0;34m'chain'\u001b[0m\u001b[0;34m,\u001b[0m\u001b[0;34m\u001b[0m\u001b[0;34m\u001b[0m\u001b[0m\n\u001b[1;32m     84\u001b[0m             \u001b[0mendpoint\u001b[0m\u001b[0;34m=\u001b[0m\u001b[0;34m'get_info'\u001b[0m\u001b[0;34m,\u001b[0m\u001b[0;34m\u001b[0m\u001b[0;34m\u001b[0m\u001b[0m\n\u001b[0;32m---> 85\u001b[0;31m             \u001b[0mbody\u001b[0m\u001b[0;34m=\u001b[0m\u001b[0mbody\u001b[0m\u001b[0;34m\u001b[0m\u001b[0;34m\u001b[0m\u001b[0m\n\u001b[0m\u001b[1;32m     86\u001b[0m         )\n\u001b[1;32m     87\u001b[0m \u001b[0;34m\u001b[0m\u001b[0m\n",
      "\u001b[0;32m~/anaconda3/lib/python3.7/site-packages/pyeoskit/http_client.py\u001b[0m in \u001b[0;36mexec\u001b[0;34m(self, api, endpoint, body, _ret_cnt)\u001b[0m\n\u001b[1;32m    145\u001b[0m                 \u001b[0mextra\u001b[0m \u001b[0;34m=\u001b[0m \u001b[0mdict\u001b[0m\u001b[0;34m(\u001b[0m\u001b[0merr\u001b[0m\u001b[0;34m=\u001b[0m\u001b[0me\u001b[0m\u001b[0;34m,\u001b[0m \u001b[0murl\u001b[0m\u001b[0;34m=\u001b[0m\u001b[0murl\u001b[0m\u001b[0;34m,\u001b[0m \u001b[0mbody\u001b[0m\u001b[0;34m=\u001b[0m\u001b[0mbody\u001b[0m\u001b[0;34m,\u001b[0m \u001b[0mmethod\u001b[0m\u001b[0;34m=\u001b[0m\u001b[0mmethod\u001b[0m\u001b[0;34m)\u001b[0m\u001b[0;34m\u001b[0m\u001b[0;34m\u001b[0m\u001b[0m\n\u001b[1;32m    146\u001b[0m                 \u001b[0mlogger\u001b[0m\u001b[0;34m.\u001b[0m\u001b[0minfo\u001b[0m\u001b[0;34m(\u001b[0m\u001b[0;34m'Request error'\u001b[0m\u001b[0;34m,\u001b[0m \u001b[0mextra\u001b[0m\u001b[0;34m=\u001b[0m\u001b[0mextra\u001b[0m\u001b[0;34m)\u001b[0m\u001b[0;34m\u001b[0m\u001b[0;34m\u001b[0m\u001b[0m\n\u001b[0;32m--> 147\u001b[0;31m                 \u001b[0;32mraise\u001b[0m \u001b[0me\u001b[0m\u001b[0;34m\u001b[0m\u001b[0;34m\u001b[0m\u001b[0m\n\u001b[0m\u001b[1;32m    148\u001b[0m             \u001b[0;32melse\u001b[0m\u001b[0;34m:\u001b[0m\u001b[0;34m\u001b[0m\u001b[0;34m\u001b[0m\u001b[0m\n\u001b[1;32m    149\u001b[0m                 return self._return(\n",
      "\u001b[0;32m~/anaconda3/lib/python3.7/site-packages/pyeoskit/http_client.py\u001b[0m in \u001b[0;36mexec\u001b[0;34m(self, api, endpoint, body, _ret_cnt)\u001b[0m\n\u001b[1;32m    141\u001b[0m             \u001b[0murl\u001b[0m \u001b[0;34m=\u001b[0m \u001b[0;34m\"{}/{}/{}/{}\"\u001b[0m\u001b[0;34m.\u001b[0m\u001b[0mformat\u001b[0m\u001b[0;34m(\u001b[0m\u001b[0mself\u001b[0m\u001b[0;34m.\u001b[0m\u001b[0mnode_url\u001b[0m\u001b[0;34m,\u001b[0m \u001b[0mself\u001b[0m\u001b[0;34m.\u001b[0m\u001b[0mapi_version\u001b[0m\u001b[0;34m,\u001b[0m \u001b[0mapi\u001b[0m\u001b[0;34m,\u001b[0m \u001b[0mendpoint\u001b[0m\u001b[0;34m)\u001b[0m\u001b[0;34m\u001b[0m\u001b[0;34m\u001b[0m\u001b[0m\n\u001b[1;32m    142\u001b[0m             \u001b[0;32mtry\u001b[0m\u001b[0;34m:\u001b[0m\u001b[0;34m\u001b[0m\u001b[0;34m\u001b[0m\u001b[0m\n\u001b[0;32m--> 143\u001b[0;31m                 \u001b[0mresponse\u001b[0m \u001b[0;34m=\u001b[0m \u001b[0mself\u001b[0m\u001b[0;34m.\u001b[0m\u001b[0mhttp\u001b[0m\u001b[0;34m.\u001b[0m\u001b[0murlopen\u001b[0m\u001b[0;34m(\u001b[0m\u001b[0mmethod\u001b[0m\u001b[0;34m,\u001b[0m \u001b[0murl\u001b[0m\u001b[0;34m,\u001b[0m \u001b[0mbody\u001b[0m\u001b[0;34m=\u001b[0m\u001b[0mbody\u001b[0m\u001b[0;34m)\u001b[0m\u001b[0;34m\u001b[0m\u001b[0;34m\u001b[0m\u001b[0m\n\u001b[0m\u001b[1;32m    144\u001b[0m             \u001b[0;32mexcept\u001b[0m \u001b[0mException\u001b[0m \u001b[0;32mas\u001b[0m \u001b[0me\u001b[0m\u001b[0;34m:\u001b[0m\u001b[0;34m\u001b[0m\u001b[0;34m\u001b[0m\u001b[0m\n\u001b[1;32m    145\u001b[0m                 \u001b[0mextra\u001b[0m \u001b[0;34m=\u001b[0m \u001b[0mdict\u001b[0m\u001b[0;34m(\u001b[0m\u001b[0merr\u001b[0m\u001b[0;34m=\u001b[0m\u001b[0me\u001b[0m\u001b[0;34m,\u001b[0m \u001b[0murl\u001b[0m\u001b[0;34m=\u001b[0m\u001b[0murl\u001b[0m\u001b[0;34m,\u001b[0m \u001b[0mbody\u001b[0m\u001b[0;34m=\u001b[0m\u001b[0mbody\u001b[0m\u001b[0;34m,\u001b[0m \u001b[0mmethod\u001b[0m\u001b[0;34m=\u001b[0m\u001b[0mmethod\u001b[0m\u001b[0;34m)\u001b[0m\u001b[0;34m\u001b[0m\u001b[0;34m\u001b[0m\u001b[0m\n",
      "\u001b[0;32m~/anaconda3/lib/python3.7/site-packages/urllib3/poolmanager.py\u001b[0m in \u001b[0;36murlopen\u001b[0;34m(self, method, url, redirect, **kw)\u001b[0m\n\u001b[1;32m    321\u001b[0m             \u001b[0mresponse\u001b[0m \u001b[0;34m=\u001b[0m \u001b[0mconn\u001b[0m\u001b[0;34m.\u001b[0m\u001b[0murlopen\u001b[0m\u001b[0;34m(\u001b[0m\u001b[0mmethod\u001b[0m\u001b[0;34m,\u001b[0m \u001b[0murl\u001b[0m\u001b[0;34m,\u001b[0m \u001b[0;34m**\u001b[0m\u001b[0mkw\u001b[0m\u001b[0;34m)\u001b[0m\u001b[0;34m\u001b[0m\u001b[0;34m\u001b[0m\u001b[0m\n\u001b[1;32m    322\u001b[0m         \u001b[0;32melse\u001b[0m\u001b[0;34m:\u001b[0m\u001b[0;34m\u001b[0m\u001b[0;34m\u001b[0m\u001b[0m\n\u001b[0;32m--> 323\u001b[0;31m             \u001b[0mresponse\u001b[0m \u001b[0;34m=\u001b[0m \u001b[0mconn\u001b[0m\u001b[0;34m.\u001b[0m\u001b[0murlopen\u001b[0m\u001b[0;34m(\u001b[0m\u001b[0mmethod\u001b[0m\u001b[0;34m,\u001b[0m \u001b[0mu\u001b[0m\u001b[0;34m.\u001b[0m\u001b[0mrequest_uri\u001b[0m\u001b[0;34m,\u001b[0m \u001b[0;34m**\u001b[0m\u001b[0mkw\u001b[0m\u001b[0;34m)\u001b[0m\u001b[0;34m\u001b[0m\u001b[0;34m\u001b[0m\u001b[0m\n\u001b[0m\u001b[1;32m    324\u001b[0m \u001b[0;34m\u001b[0m\u001b[0m\n\u001b[1;32m    325\u001b[0m         \u001b[0mredirect_location\u001b[0m \u001b[0;34m=\u001b[0m \u001b[0mredirect\u001b[0m \u001b[0;32mand\u001b[0m \u001b[0mresponse\u001b[0m\u001b[0;34m.\u001b[0m\u001b[0mget_redirect_location\u001b[0m\u001b[0;34m(\u001b[0m\u001b[0;34m)\u001b[0m\u001b[0;34m\u001b[0m\u001b[0;34m\u001b[0m\u001b[0m\n",
      "\u001b[0;32m~/anaconda3/lib/python3.7/site-packages/urllib3/connectionpool.py\u001b[0m in \u001b[0;36murlopen\u001b[0;34m(self, method, url, body, headers, retries, redirect, assert_same_host, timeout, pool_timeout, release_conn, chunked, body_pos, **response_kw)\u001b[0m\n\u001b[1;32m    665\u001b[0m                                 \u001b[0mtimeout\u001b[0m\u001b[0;34m=\u001b[0m\u001b[0mtimeout\u001b[0m\u001b[0;34m,\u001b[0m \u001b[0mpool_timeout\u001b[0m\u001b[0;34m=\u001b[0m\u001b[0mpool_timeout\u001b[0m\u001b[0;34m,\u001b[0m\u001b[0;34m\u001b[0m\u001b[0;34m\u001b[0m\u001b[0m\n\u001b[1;32m    666\u001b[0m                                 \u001b[0mrelease_conn\u001b[0m\u001b[0;34m=\u001b[0m\u001b[0mrelease_conn\u001b[0m\u001b[0;34m,\u001b[0m \u001b[0mbody_pos\u001b[0m\u001b[0;34m=\u001b[0m\u001b[0mbody_pos\u001b[0m\u001b[0;34m,\u001b[0m\u001b[0;34m\u001b[0m\u001b[0;34m\u001b[0m\u001b[0m\n\u001b[0;32m--> 667\u001b[0;31m                                 **response_kw)\n\u001b[0m\u001b[1;32m    668\u001b[0m \u001b[0;34m\u001b[0m\u001b[0m\n\u001b[1;32m    669\u001b[0m         \u001b[0;32mdef\u001b[0m \u001b[0mdrain_and_release_conn\u001b[0m\u001b[0;34m(\u001b[0m\u001b[0mresponse\u001b[0m\u001b[0;34m)\u001b[0m\u001b[0;34m:\u001b[0m\u001b[0;34m\u001b[0m\u001b[0;34m\u001b[0m\u001b[0m\n",
      "\u001b[0;32m~/anaconda3/lib/python3.7/site-packages/urllib3/connectionpool.py\u001b[0m in \u001b[0;36murlopen\u001b[0;34m(self, method, url, body, headers, retries, redirect, assert_same_host, timeout, pool_timeout, release_conn, chunked, body_pos, **response_kw)\u001b[0m\n\u001b[1;32m    636\u001b[0m \u001b[0;34m\u001b[0m\u001b[0m\n\u001b[1;32m    637\u001b[0m             retries = retries.increment(method, url, error=e, _pool=self,\n\u001b[0;32m--> 638\u001b[0;31m                                         _stacktrace=sys.exc_info()[2])\n\u001b[0m\u001b[1;32m    639\u001b[0m             \u001b[0mretries\u001b[0m\u001b[0;34m.\u001b[0m\u001b[0msleep\u001b[0m\u001b[0;34m(\u001b[0m\u001b[0;34m)\u001b[0m\u001b[0;34m\u001b[0m\u001b[0;34m\u001b[0m\u001b[0m\n\u001b[1;32m    640\u001b[0m \u001b[0;34m\u001b[0m\u001b[0m\n",
      "\u001b[0;32m~/anaconda3/lib/python3.7/site-packages/urllib3/util/retry.py\u001b[0m in \u001b[0;36mincrement\u001b[0;34m(self, method, url, response, error, _pool, _stacktrace)\u001b[0m\n\u001b[1;32m    396\u001b[0m \u001b[0;34m\u001b[0m\u001b[0m\n\u001b[1;32m    397\u001b[0m         \u001b[0;32mif\u001b[0m \u001b[0mnew_retry\u001b[0m\u001b[0;34m.\u001b[0m\u001b[0mis_exhausted\u001b[0m\u001b[0;34m(\u001b[0m\u001b[0;34m)\u001b[0m\u001b[0;34m:\u001b[0m\u001b[0;34m\u001b[0m\u001b[0;34m\u001b[0m\u001b[0m\n\u001b[0;32m--> 398\u001b[0;31m             \u001b[0;32mraise\u001b[0m \u001b[0mMaxRetryError\u001b[0m\u001b[0;34m(\u001b[0m\u001b[0m_pool\u001b[0m\u001b[0;34m,\u001b[0m \u001b[0murl\u001b[0m\u001b[0;34m,\u001b[0m \u001b[0merror\u001b[0m \u001b[0;32mor\u001b[0m \u001b[0mResponseError\u001b[0m\u001b[0;34m(\u001b[0m\u001b[0mcause\u001b[0m\u001b[0;34m)\u001b[0m\u001b[0;34m)\u001b[0m\u001b[0;34m\u001b[0m\u001b[0;34m\u001b[0m\u001b[0m\n\u001b[0m\u001b[1;32m    399\u001b[0m \u001b[0;34m\u001b[0m\u001b[0m\n\u001b[1;32m    400\u001b[0m         \u001b[0mlog\u001b[0m\u001b[0;34m.\u001b[0m\u001b[0mdebug\u001b[0m\u001b[0;34m(\u001b[0m\u001b[0;34m\"Incremented Retry for (url='%s'): %r\"\u001b[0m\u001b[0;34m,\u001b[0m \u001b[0murl\u001b[0m\u001b[0;34m,\u001b[0m \u001b[0mnew_retry\u001b[0m\u001b[0;34m)\u001b[0m\u001b[0;34m\u001b[0m\u001b[0;34m\u001b[0m\u001b[0m\n",
      "\u001b[0;31mMaxRetryError\u001b[0m: HTTPConnectionPool(host='127.0.0.1', port=8888): Max retries exceeded with url: /v1/chain/get_info (Caused by NewConnectionError('<urllib3.connection.HTTPConnection object at 0x1f8e110f0>: Failed to establish a new connection: [Errno 61] Connection refused'))"
     ]
    }
   ],
   "source": [
    "eosapi.get_info()\n"
   ]
  }
 ],
 "metadata": {
  "kernelspec": {
   "display_name": "Python 3",
   "language": "python",
   "name": "python3"
  },
  "language_info": {
   "codemirror_mode": {
    "name": "ipython",
    "version": 3
   },
   "file_extension": ".py",
   "mimetype": "text/x-python",
   "name": "python",
   "nbconvert_exporter": "python",
   "pygments_lexer": "ipython3",
   "version": "3.7.3"
  }
 },
 "nbformat": 4,
 "nbformat_minor": 2
}
