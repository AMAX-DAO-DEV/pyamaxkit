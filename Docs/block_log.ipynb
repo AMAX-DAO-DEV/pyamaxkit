{
 "cells": [
  {
   "cell_type": "code",
   "execution_count": 1,
   "metadata": {},
   "outputs": [
    {
     "data": {
      "text/plain": [
       "{\n",
       "    \"server_version\": \"c247ca4a\",\n",
       "    \"chain_id\": \"aca376f206b8fc25a6ed44dbdc66547c36c6c33e3a119ffbeaef943642f0e906\",\n",
       "    \"head_block_num\": 81078167,\n",
       "    \"last_irreversible_block_num\": 81077840,\n",
       "    \"last_irreversible_block_id\": \"04d52650a605f24574b449dc2c7f966f73c1986ebec566c9a257db935f7978de\",\n",
       "    \"head_block_id\": \"04d527978bd5a6da3ae9d3b1d7939c183ce107b38be155766f8729dbb19986af\",\n",
       "    \"head_block_time\": \"2019-09-24T16:43:37.000\",\n",
       "    \"head_block_producer\": \"big.one\",\n",
       "    \"virtual_block_cpu_limit\": 200000000,\n",
       "    \"virtual_block_net_limit\": 1048576000,\n",
       "    \"block_cpu_limit\": 200000,\n",
       "    \"block_net_limit\": 1048576,\n",
       "    \"server_version_string\": \"v1.8.2-737-gc247ca4aae-dirty\",\n",
       "    \"fork_db_head_block_num\": 81078167,\n",
       "    \"fork_db_head_block_id\": \"04d527978bd5a6da3ae9d3b1d7939c183ce107b38be155766f8729dbb19986af\"\n",
       "}"
      ]
     },
     "execution_count": 1,
     "metadata": {},
     "output_type": "execute_result"
    }
   ],
   "source": [
    "eosapi.get_info()"
   ]
  },
  {
   "cell_type": "code",
   "execution_count": 30,
   "metadata": {},
   "outputs": [
    {
     "name": "stdout",
     "output_type": "stream",
     "text": [
      "80315001\n",
      "80315001 {'expiration': '2019-09-20T06:01:30', 'ref_block_num': 33398, 'ref_block_prefix': 3345516913, 'max_net_usage_words': 0, 'max_cpu_usage_ms': 0, 'delay_sec': 0, 'context_free_actions': [], 'actions': [{'account': 'blackjack.e', 'name': 'playeraction', 'authorization': [{'actor': 'libertyhome1', 'permission': 'active'}], 'data': '1094a4cde7ab8e8bb85e1800000000000400000000000000'}], 'transaction_extensions': [], 'signatures': ['SIG_K1_KgmxzELuR1YD83QTVRU4DxWfUZQZa1UGoF68ov8qBQg5K5Rphmmt634knTmCB2Ztw4f8YS9qCpRFZ5wLQ5fW3n4kxnaqk7'], 'context_free_data': []}\n",
      "80315001 {'expiration': '2019-09-20T06:01:58', 'ref_block_num': 33394, 'ref_block_prefix': 191425309, 'max_net_usage_words': 0, 'max_cpu_usage_ms': 0, 'delay_sec': 0, 'context_free_actions': [], 'actions': [{'account': 'betdicegroup', 'name': 'payout', 'authorization': [{'actor': 'betdicegroup', 'permission': 'active'}], 'data': '4b11000000000000'}], 'transaction_extensions': [], 'signatures': ['SIG_K1_K9Ubwg76h8NNRRZCuTUDu7YS1XbeYM9mp4hjqHG3P63boWXQjfxBfUTozCr5HfQcrk5mksYnbbLVajvksMYDM74gHmhgjJ'], 'context_free_data': []}\n",
      "80315001 {'expiration': '2019-09-20T06:01:28', 'ref_block_num': 33394, 'ref_block_prefix': 191425309, 'max_net_usage_words': 0, 'max_cpu_usage_ms': 0, 'delay_sec': 0, 'context_free_actions': [], 'actions': [{'account': 'eosio.token', 'name': 'transfer', 'authorization': [{'actor': 'gjnhrje4bw4l', 'permission': 'active'}], 'data': '10093f44bddbe663009179d830b53155f40100000000000004454f530000000008747970655b38385d'}], 'transaction_extensions': [], 'signatures': ['SIG_K1_KmCaBSVG8FW9F9fzGWZZXHhVSWCGLHbTWdygDuwpKBWCbLJWQAaQq5SPG6wbTZVkwtPSsXcZyQHPUaghC1UDJuDxyCutGj'], 'context_free_data': []}\n",
      "80315001 {'expiration': '2019-09-20T06:01:58', 'ref_block_num': 33394, 'ref_block_prefix': 191425309, 'max_net_usage_words': 0, 'max_cpu_usage_ms': 0, 'delay_sec': 0, 'context_free_actions': [], 'actions': [{'account': 'betdicegroup', 'name': 'payout', 'authorization': [{'actor': 'betdicegroup', 'permission': 'active'}], 'data': '9d23000000000000'}], 'transaction_extensions': [], 'signatures': ['SIG_K1_KAxXspzDQ6RQt7PGht5mry6FXMRoYVq1QvvX6Xv93TC6Xx9VYohe7HJo8agnV2ivzUE58T35hk7bCNULu3mDjx5tGZYyQ2'], 'context_free_data': []}\n",
      "80315001 {'expiration': '2019-09-20T06:06:01', 'ref_block_num': 33399, 'ref_block_prefix': 36574834, 'max_net_usage_words': 0, 'max_cpu_usage_ms': 0, 'delay_sec': 0, 'context_free_actions': [], 'actions': [{'account': 'ghtclubtoken', 'name': 'transfer', 'authorization': [{'actor': 'ghtclubbank1', 'permission': 'active'}], 'data': '10e034e7e8887263309d4ce6e888726330750000000000000447485400000000347472616e736665723a20307837633961653035366531383735396231336464616635646637383035383561333131333334303061'}], 'transaction_extensions': [], 'signatures': ['SIG_K1_Kd4aXGWxd8we9yCmnafC1cfYRKmNQ1e4co6nriivAsc6jXEBxK5Gda5tVeXDnEe8KGHqHnYLXYq782WovuarhzxG6SDtFe'], 'context_free_data': []}\n",
      "80315001 {'expiration': '2019-09-20T06:01:28', 'ref_block_num': 33062, 'ref_block_prefix': 1711041669, 'max_net_usage_words': 0, 'max_cpu_usage_ms': 0, 'delay_sec': 0, 'context_free_actions': [], 'actions': [{'account': 'pornhashbaby', 'name': 'record', 'authorization': [{'actor': 'bnr421441235', 'permission': 'active'}], 'data': '508608840441ee3c62317c68624d3243414d63645a39784c6d726a4c6d4c6c4f46446c674b6f7a43564c364c464d50645a776f4c6c7a6a4c70396c6470596d67464c364c464d45667155734232616f4f636a7a506d6a6352476a62504748345047587a50576e6c69543d3d'}], 'transaction_extensions': [], 'signatures': ['SIG_K1_K4XursLr3XcKgfDvxdPwzmNeUa6CA5rkVyCHjf7oYFa5f8Jp4xy9DBk2JRQHk3qusNGHJV2B1cQa3UBoNwJWDTFzoB1DwF'], 'context_free_data': []}\n",
      "80315001 {'expiration': '2019-09-20T06:06:00', 'ref_block_num': 33398, 'ref_block_prefix': 3345516913, 'max_net_usage_words': 0, 'max_cpu_usage_ms': 0, 'delay_sec': 0, 'context_free_actions': [], 'actions': [{'account': 'eosreeladmin', 'name': 'resolvedoor', 'authorization': [{'actor': 'eosreeladmin', 'permission': 'active'}], 'data': 'e2e222e3919598d3001f6181ac9ee1048c44be7ae5b7390e05cb4edb5dfe4c879c3300031738a7b10db009b842f950a143591e047b4ceea5d202ecb2ab794781d6a2d72da5ae4bb35ad7'}], 'transaction_extensions': [], 'signatures': ['SIG_K1_KkRWoudyVqrSqqsefh8wqsQ53HUF2EMGuiJH7L3KMzatSNar2hn98qx1pdUyjMtoDpev4oRvK2SondDwyBxiazSFgoNSzw'], 'context_free_data': []}\n",
      "80315001 {'expiration': '2019-09-20T06:01:23', 'ref_block_num': 33050, 'ref_block_prefix': 3999817797, 'max_net_usage_words': 0, 'max_cpu_usage_ms': 0, 'delay_sec': 0, 'context_free_actions': [], 'actions': [{'account': 'pornhashbaby', 'name': 'record', 'authorization': [{'actor': 'bnr324342445', 'permission': 'active'}], 'data': '500811641031ee3c62317c68624d3243414d63645a39784c6d726a4c6d4c6c4f46446c674b6f7a43564c364c464d50645a776f4c6c7a6a4c70396c6470596d67464c364c464d45667155734232616f4f636a7a506d6a32515754635047483350475062506d426c69543d3d'}], 'transaction_extensions': [], 'signatures': ['SIG_K1_KBEZeWM7fXrNxFk1qRuHLuk2BmJGtMCn66Pw1S7GYM4m22sE1jqxcZFGDgS5mqkZqnV3psjdwT7vL6pPoJ8pz3p2idrqGq'], 'context_free_data': []}\n",
      "80315001 {'expiration': '2019-09-20T06:01:30', 'ref_block_num': 33399, 'ref_block_prefix': 36574834, 'max_net_usage_words': 0, 'max_cpu_usage_ms': 0, 'delay_sec': 0, 'context_free_actions': [], 'actions': [{'account': 'newdexpublic', 'name': 'refund', 'authorization': [{'actor': 'newdexadmin1', 'permission': 'active'}], 'data': '02'}], 'transaction_extensions': [], 'signatures': ['SIG_K1_KXDXTuUDmAQ4SmsqeZiTQMestDuN68Bqgzvmrqop3JVBBwGa2iaUg214af5PwadSfVDkGex37rCYHJgDaVU8WgGptaU5s2'], 'context_free_data': []}\n",
      "80315001 {'expiration': '2019-09-20T06:01:30', 'ref_block_num': 33399, 'ref_block_prefix': 36574834, 'max_net_usage_words': 0, 'max_cpu_usage_ms': 0, 'delay_sec': 0, 'context_free_actions': [], 'actions': [{'account': 'newdexpublic', 'name': 'tradebatch', 'authorization': [{'actor': 'newdexadmin1', 'permission': 'active'}], 'data': '02'}], 'transaction_extensions': [], 'signatures': ['SIG_K1_KWSsA4x18SuQfWLHesEsWB7RguzKxBLMkizr3NUAB9axuYimt9qsYL2RPhXHpRGPSWoaRk76ukXs58pEPk42yPErqXRY5T'], 'context_free_data': []}\n",
      "80315001 {'expiration': '2019-09-20T06:01:30', 'ref_block_num': 33396, 'ref_block_prefix': 195208056, 'max_net_usage_words': 0, 'max_cpu_usage_ms': 0, 'delay_sec': 0, 'context_free_actions': [], 'actions': [{'account': 'eossanguoone', 'name': 'sellmat', 'authorization': [{'actor': 'gerwaq231352', 'permission': 'active'}], 'data': '20ca084358c3af62020a000000000000320000000000000004454f53000000007082c9048e551f8a'}], 'transaction_extensions': [], 'signatures': ['SIG_K1_KfnBuipaT5rWt8NaEJhTo1i2KTT6E7kUWZoAJVQSe85UgjdBL3aXHdUhZDy9SAGUHPA1gyo8QXp6iHYeFScbVdA8F53RUx'], 'context_free_data': []}\n",
      "80315001 {'expiration': '2019-09-20T06:01:30', 'ref_block_num': 33074, 'ref_block_prefix': 3592568756, 'max_net_usage_words': 0, 'max_cpu_usage_ms': 0, 'delay_sec': 0, 'context_free_actions': [], 'actions': [{'account': 'whaleextrust', 'name': 'verifyad', 'authorization': [{'actor': 'walvalidator', 'permission': 'active'}], 'data': 'c0a669a82b154de350e94dd719154de350c810a1c7166d5b718cc7000000000010a4000000000000034943590000000090917af456bf2872'}], 'transaction_extensions': [], 'signatures': ['SIG_K1_JxZqsAoniJdbdhf4v2Xu2JgZrneALzskY4vLADDcSSb3Ru1Xsq1enDxnFnE4JAMwemcTKbDzhs8GBgrmyExe725vG6D2cg'], 'context_free_data': []}\n",
      "80315001 {'expiration': '2019-09-20T06:01:30', 'ref_block_num': 33399, 'ref_block_prefix': 36574834, 'max_net_usage_words': 0, 'max_cpu_usage_ms': 0, 'delay_sec': 0, 'context_free_actions': [], 'actions': [{'account': 'usdecontract', 'name': 'updatereward', 'authorization': [{'actor': 'rewardrenews', 'permission': 'active'}], 'data': '540d0000091873696d706c6573696d706c652d3733353637312d333531331873696d706c6573696d706c652d3133393039312d333531341573696d706c6573696d706c652d3132342d333532331573696d706c6573696d706c652d3237392d333533321573696d706c6573696d706c652d3237382d333534361573696d706c6573696d706c652d3235392d333535361573696d706c6573696d706c652d3234302d333536381573696d706c6573696d706c652d3231302d333537381573696d706c6573696d706c652d3234392d33363033'}], 'transaction_extensions': [], 'signatures': ['SIG_K1_KVG39TLjMroB95fpYSVzhPVXbvY6ZKo9ggBxZKKuXQtMLD5eTdb3cabcwEfzdAM58WpcqwnWTAfLBTgrWiXYQrC2AYZR4T'], 'context_free_data': []}\n",
      "80315001 {'expiration': '2019-09-20T06:01:28', 'ref_block_num': 33394, 'ref_block_prefix': 191425309, 'max_net_usage_words': 0, 'max_cpu_usage_ms': 0, 'delay_sec': 0, 'context_free_actions': [], 'actions': [{'account': 'betdicetasks', 'name': 'removetask', 'authorization': [{'actor': 'betdicegroup', 'permission': 'tasksserver'}], 'data': '3f3b2447b7f6a7158a3d1666dce42353878eaa0839e73b1251cf1d1e6b3a7712'}], 'transaction_extensions': [], 'signatures': ['SIG_K1_KjXgzKeJZZdBowm3aDAdeiXVNkcHxoqDoew7iVYBAfiK3FcAxpR1EE6ZLXV2wETkwt5hUPbaSMxVg4Pu52Wf1f59mWtu5k'], 'context_free_data': []}\n",
      "80315001 {'expiration': '2019-09-20T06:01:29', 'ref_block_num': 33395, 'ref_block_prefix': 2840268632, 'max_net_usage_words': 0, 'max_cpu_usage_ms': 0, 'delay_sec': 0, 'context_free_actions': [], 'actions': [{'account': 'betdicetasks', 'name': 'withdraw', 'authorization': [{'actor': 'betdicegroup', 'permission': 'tasksserver'}], 'data': 'efb16da15a82a33a1c198b9a599788759c4d8e5f1cdfe7976f4bae439a66f28e0080422e01305dc5802136592197b23a609b9ad76ceb0d611027000000000000045350494e0000000739373235343134'}], 'transaction_extensions': [], 'signatures': ['SIG_K1_K8xfaHmTQbU9hY6FsQnzRpNBW89WTm7HNG6A9vtv4jEg2Dr8G14NwyWhUhxLZSexfSajpw4PuXawdjYhyQn4Ky3YVCDWcE'], 'context_free_data': []}\n",
      "80315001 {'expiration': '2019-09-20T06:02:00', 'ref_block_num': 33062, 'ref_block_prefix': 1711041669, 'max_net_usage_words': 0, 'max_cpu_usage_ms': 0, 'delay_sec': 0, 'context_free_actions': [], 'actions': [{'account': 'scratchcards', 'name': 'welcome', 'authorization': [{'actor': 'cardsprinter', 'permission': 'active'}], 'data': '364869476f6c6420536372617463684361726473207c2068747470733a2f2f636172642e68692e676f6c64207c20623064386131376334'}], 'transaction_extensions': [], 'signatures': ['SIG_K1_K6Bdt6AWUHjJUrtJZJa9sJgM6tKreHeWofEkoQ8i4Hnrez7czvQLdzd68w2LxJBdgyYKxtJQUbRgePesyJnzGQduSiCnrh'], 'context_free_data': []}\n",
      "80315001 {'expiration': '2019-09-20T06:01:31', 'ref_block_num': 33399, 'ref_block_prefix': 36574834, 'max_net_usage_words': 0, 'max_cpu_usage_ms': 0, 'delay_sec': 0, 'context_free_actions': [], 'actions': [{'account': 'eosplayaloud', 'name': 'yell', 'authorization': [{'actor': 'eosplayaloud', 'permission': 'active'}], 'data': '90348dc69b5831559d01e58cbae59d97e993be204861736820e580bce5bc80e5a596e5b9b3e58fb020454f53506c617920e696b0e6b8b8e6888f204841534820e7899be7899be4b88ae7babf2120e58fa6e69c89e4b990e9808f2ce9aab0e5ad902ce88081e8998ee69cbae7ad89e79d80e682a8e8b5a2e5be97e5a596e6b1a0e59b9ee68aa52121212068747470733a2f2f656f73706c61792e636f6d2f3f6164643133633638'}], 'transaction_extensions': [], 'signatures': ['SIG_K1_Kd4GTwNz5B8SPrcWx5Vh1GQAnS48Kthj5EBpzyCZgCPpAdug3X28rQQijzZfJopaSv9YbcNJsgnx13ivv1eSSVFJe7XKdn'], 'context_free_data': []}\n",
      "80315001 {'expiration': '2019-09-20T06:02:00', 'ref_block_num': 33399, 'ref_block_prefix': 36574834, 'max_net_usage_words': 0, 'max_cpu_usage_ms': 0, 'delay_sec': 0, 'context_free_actions': [], 'actions': [{'account': 'pornhashbaby', 'name': 'record', 'authorization': [{'actor': 'bnr455141125', 'permission': 'owner'}], 'data': '504408249442ee3c5a317c68624d3243414d63645a39784c6d726c506c4c764c715535664a586c526c4d50645a776f4c6c7a6c65324d74435a51304c6d726c54414d30645a51764356383352474830506d6a315163447a5247447a505744344c71303d'}], 'transaction_extensions': [], 'signatures': ['SIG_K1_KYe61EdHFo3ooGtBFnVKU8qAkfdB9FCKMCpJXwJB7PEEVHgkjT7ta7zCyy7ipdg635ixZLp47z1473pqcq7EZm7c2a2E5L'], 'context_free_data': []}\n",
      "80315001 {'expiration': '2019-09-20T06:01:59', 'ref_block_num': 33395, 'ref_block_prefix': 2840268632, 'max_net_usage_words': 0, 'max_cpu_usage_ms': 0, 'delay_sec': 0, 'context_free_actions': [], 'actions': [{'account': 'betdicegroup', 'name': 'payout', 'authorization': [{'actor': 'betdicegroup', 'permission': 'active'}], 'data': 'f81a000000000000'}], 'transaction_extensions': [], 'signatures': ['SIG_K1_KBx3a9W16b67LWSAa6782Dpw9w4vemzzgP9hKj2dK6k3Yrbn36epArQVyDZGFhwJRYdqUgTBdZs92A1MSzr2NM7hgSzJs1'], 'context_free_data': []}\n",
      "80315001 {'expiration': '2019-09-20T06:05:59', 'ref_block_num': 33062, 'ref_block_prefix': 1711041669, 'max_net_usage_words': 0, 'max_cpu_usage_ms': 0, 'delay_sec': 0, 'context_free_actions': [], 'actions': [{'account': 'eossanguoone', 'name': 'sellmat', 'authorization': [{'actor': 'kpkkfreedoms', 'permission': 'active'}], 'data': '80254d4add056185e100000000000000320000000000000004454f53000000006f82c904444e8ae2'}], 'transaction_extensions': [], 'signatures': ['SIG_K1_K8udZg3igRwiSRzB6mF7zEvFxkYs9yyVzuzrzgGG5vjtUqhKCYyYZtPS5j6MVsSoaZegPwwHDv5PQ4ihEGSeQQcQKTxqGw'], 'context_free_data': []}\n",
      "80315001 {'expiration': '2019-09-20T06:01:31', 'ref_block_num': 33074, 'ref_block_prefix': 3592568756, 'max_net_usage_words': 0, 'max_cpu_usage_ms': 0, 'delay_sec': 0, 'context_free_actions': [], 'actions': [{'account': 'ipsouminer11', 'name': 'awards', 'authorization': [{'actor': 'ipsouminer11', 'permission': 'active'}], 'data': '308453dcb5cfa6e1aecbf90f0000000008495043000000000141b4000000'}], 'transaction_extensions': [], 'signatures': ['SIG_K1_KWkDivz9EYwMntv4GzdUuiQXYKkccxgNsMsB5BPPUYzhCDU99gzRo6toViYmCanQ51hYGi8mUpF1zapC9Rkm9RuLR49LZx'], 'context_free_data': []}\n",
      "80315001 {'expiration': '2019-09-20T06:01:31', 'ref_block_num': 33074, 'ref_block_prefix': 3592568756, 'max_net_usage_words': 0, 'max_cpu_usage_ms': 0, 'delay_sec': 0, 'context_free_actions': [], 'actions': [{'account': 'ipsouipfseos', 'name': 'transfer', 'authorization': [{'actor': 'ipsouminer11', 'permission': 'active'}], 'data': '10c255d3494d7175308453dcb5cfa6e1c5fa980100000000084950534f0000000135'}], 'transaction_extensions': [], 'signatures': ['SIG_K1_KbVxWaBHnYJNJPagZKM9ZZv9Zdw7tfnKyvoE8cGQQ4qxLjjCnQBo6C5bV1ZhukvdmSXetmfd9dMYT9Mbys17A3kxLgSjAZ'], 'context_free_data': []}\n",
      "80315001 {'expiration': '2019-09-20T06:01:31', 'ref_block_num': 33399, 'ref_block_prefix': 36574834, 'max_net_usage_words': 0, 'max_cpu_usage_ms': 0, 'delay_sec': 0, 'context_free_actions': [], 'actions': [{'account': 'eosplayaloud', 'name': 'yell', 'authorization': [{'actor': 'eosplayaloud', 'permission': 'active'}], 'data': '10028dae6575305551454f53506c6179204e65772047616d65204f6e6c696e65202d20534c4f5453212057494e205448452042494720424f4e5553212068747470733a2f2f656f73706c61792e636f6d2f3f6262326363343966'}], 'transaction_extensions': [], 'signatures': ['SIG_K1_KBwKjYnJaSeELwgw22WnGdDyfN3LYBNAtuQvsNHUTdwuukocJni99NiaiaavbtCRWdHPeU6qVneEGvjP25qSeeYBj5An6Z'], 'context_free_data': []}\n",
      "80315001 {'expiration': '2019-09-20T06:01:29', 'ref_block_num': 33395, 'ref_block_prefix': 2840268632, 'max_net_usage_words': 0, 'max_cpu_usage_ms': 0, 'delay_sec': 0, 'context_free_actions': [], 'actions': [{'account': 'betdicetasks', 'name': 'log', 'authorization': [{'actor': 'betdicegroup', 'permission': 'tasksserver'}], 'data': '4c52372839d5471279efda9e8f9ad453c668db8dfc5abf847ca76457f359c4875044c06952291dcecc017b2267616d654e616d65223a22626c61636b6a61636b222c2267616d654964223a313233323033362c22616374696f6e223a22686974222c2274696d65223a22323031392d30392d32305430363a30303a35322e3132305a222c22616374696f6e536571223a322c22706c6179657243617264536574223a5b7b22626173655761676572223a31303030302c22646f75626c655761676572223a302c22696e737572616e63655761676572223a302c22666f637573223a747275652c22726573756c74223a6e756c6c7d5d7d'}], 'transaction_extensions': [], 'signatures': ['SIG_K1_K1wxcWBWMoDZ98EeFvGzyGkb3doayezvRi2fXhBhJLumGRtE3GCCw8gqDjxigVwknfbqP1XPxfTZ2EtSf4pyLfG1rmCWzg'], 'context_free_data': []}\n"
     ]
    },
    {
     "data": {
      "text/plain": [
       "True"
      ]
     },
     "execution_count": 30,
     "metadata": {},
     "output_type": "execute_result"
    }
   ],
   "source": [
    "from pyeoskit import eosapi\n",
    "from pyeoskit.block_log import BlockParser\n",
    "\n",
    "class MyBlockParser(BlockParser):\n",
    "    def on_transaction(self, block_num, trx):\n",
    "        print(block_num, trx)\n",
    "        return\n",
    "        print(block_num, trx)\n",
    "\n",
    "block_log_path = '/Users/newworld/dev/uuos2/build/programs/main-dd/blocks'\n",
    "parser = MyBlockParser(block_log_path)\n",
    "head = parser.get_head_block()\n",
    "#print('head block', head)\n",
    "\n",
    "num = parser.get_first_block_num()\n",
    "print(num)\n",
    "parser.parse_transactions(num, num)\n"
   ]
  },
  {
   "cell_type": "code",
   "execution_count": null,
   "metadata": {},
   "outputs": [],
   "source": []
  },
  {
   "cell_type": "code",
   "execution_count": 33,
   "metadata": {},
   "outputs": [
    {
     "name": "stdout",
     "output_type": "stream",
     "text": [
      "++++first_block_num 80315001\n"
     ]
    },
    {
     "ename": "NameError",
     "evalue": "name 'self' is not defined",
     "output_type": "error",
     "traceback": [
      "\u001b[0;31m---------------------------------------------------------------------------\u001b[0m",
      "\u001b[0;31mNameError\u001b[0m                                 Traceback (most recent call last)",
      "\u001b[0;32m<ipython-input-33-e1dde2bef4e7>\u001b[0m in \u001b[0;36m<module>\u001b[0;34m\u001b[0m\n\u001b[1;32m     36\u001b[0m \u001b[0mprint\u001b[0m\u001b[0;34m(\u001b[0m\u001b[0;34m'++++first_block_num'\u001b[0m\u001b[0;34m,\u001b[0m \u001b[0mnum\u001b[0m\u001b[0;34m)\u001b[0m\u001b[0;34m\u001b[0m\u001b[0;34m\u001b[0m\u001b[0m\n\u001b[1;32m     37\u001b[0m \u001b[0mparser\u001b[0m\u001b[0;34m.\u001b[0m\u001b[0mparse_transactions\u001b[0m\u001b[0;34m(\u001b[0m\u001b[0mnum\u001b[0m\u001b[0;34m,\u001b[0m \u001b[0mnum\u001b[0m\u001b[0;34m)\u001b[0m\u001b[0;34m\u001b[0m\u001b[0;34m\u001b[0m\u001b[0m\n\u001b[0;32m---> 38\u001b[0;31m \u001b[0mprint\u001b[0m\u001b[0;34m(\u001b[0m\u001b[0;34m'+++transaction_count'\u001b[0m\u001b[0;34m,\u001b[0m \u001b[0mself\u001b[0m\u001b[0;34m.\u001b[0m\u001b[0mtransaction_count\u001b[0m\u001b[0;34m)\u001b[0m\u001b[0;34m\u001b[0m\u001b[0;34m\u001b[0m\u001b[0m\n\u001b[0m",
      "\u001b[0;31mNameError\u001b[0m: name 'self' is not defined"
     ]
    }
   ],
   "source": [
    "from pyeoskit import eosapi\n",
    "from pyeoskit.block_log import BlockParser\n",
    "\n",
    "class CallbackWrapper(BlockParser):\n",
    "    def on_transaction(self, block_num, trx):\n",
    "        return\n",
    "\n",
    "class MyBlockParser:\n",
    "\n",
    "    def __init__(self, block_log_path):\n",
    "        self.parser = CallbackWrapper(block_log_path)\n",
    "        self.parser.on_transaction = self.on_transaction\n",
    "        self.transaction_count = 0\n",
    "\n",
    "    def get_head_block(self):\n",
    "        self.parser.get_head_block()\n",
    "    \n",
    "    def get_first_block_num(self):\n",
    "        return self.parser.get_first_block_num()\n",
    "        \n",
    "    def on_transaction(self, block_num, trx):\n",
    "#        print(block_num, trx)\n",
    "        self.transaction_count += 1\n",
    "        return\n",
    "\n",
    "    def parse_transactions(self, block_start, block_end):\n",
    "        return self.parser.parse_transactions(block_start, block_end)\n",
    "\n",
    "\n",
    "block_log_path = '/Users/newworld/dev/uuos2/build/programs/main-dd/blocks'\n",
    "parser = MyBlockParser(block_log_path)\n",
    "head = parser.get_head_block()\n",
    "#print('head block', head)\n",
    "\n",
    "num = parser.get_first_block_num()\n",
    "print('++++first_block_num', num)\n",
    "parser.parse_transactions(num, num)\n",
    "print('+++transaction_count', self.transaction_count)\n"
   ]
  }
 ],
 "metadata": {
  "kernelspec": {
   "display_name": "Python 3",
   "language": "python",
   "name": "python3"
  },
  "language_info": {
   "codemirror_mode": {
    "name": "ipython",
    "version": 3
   },
   "file_extension": ".py",
   "mimetype": "text/x-python",
   "name": "python",
   "nbconvert_exporter": "python",
   "pygments_lexer": "ipython3",
   "version": "3.7.3"
  }
 },
 "nbformat": 4,
 "nbformat_minor": 2
}
